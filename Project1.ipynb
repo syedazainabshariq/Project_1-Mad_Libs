{
  "nbformat": 4,
  "nbformat_minor": 0,
  "metadata": {
    "colab": {
      "provenance": [],
      "authorship_tag": "ABX9TyOoYoOPH2N3GmVjwXBemwY+",
      "include_colab_link": true
    },
    "kernelspec": {
      "name": "python3",
      "display_name": "Python 3"
    },
    "language_info": {
      "name": "python"
    }
  },
  "cells": [
    {
      "cell_type": "markdown",
      "metadata": {
        "id": "view-in-github",
        "colab_type": "text"
      },
      "source": [
        "<a href=\"https://colab.research.google.com/github/syedazainabshariq/Project_1-Mad_Libs/blob/main/Project1.ipynb\" target=\"_parent\"><img src=\"https://colab.research.google.com/assets/colab-badge.svg\" alt=\"Open In Colab\"/></a>"
      ]
    },
    {
      "cell_type": "markdown",
      "source": [
        "# Project  1\n",
        " ## *Mad Libs*"
      ],
      "metadata": {
        "id": "9fCvEftM3wAA"
      }
    },
    {
      "cell_type": "code",
      "execution_count": null,
      "metadata": {
        "colab": {
          "base_uri": "https://localhost:8080/"
        },
        "id": "pxNK-FLUl4qb",
        "outputId": "576056fc-abf6-4ddb-db6b-16ad6d8fa392"
      },
      "outputs": [
        {
          "output_type": "stream",
          "name": "stdout",
          "text": [
            "Welcome to Mad Libs!\n",
            "Please enter the following words:\n",
            "Adjective: beautiful\n",
            "Noun: boy\n",
            "Verb (past tense): ate\n",
            "Adjective: hungry\n",
            "Noun: girl\n",
            "Verb (present tense): eat\n",
            "Number: 2\n",
            "Plural Noun: girls\n",
            "Verb (present tense): wet\n",
            "\n",
            "Here is your Mad Libs story:\n",
            "Once upon a time, a beautiful boy decided to ate in the hungry forest. Along the way, it met a girl who asked, 'Do you want to eat with me?' The boy said, 'Sure! But we must first find 2 girls to help us.' Together, they wet and lived happily ever after.\n"
          ]
        }
      ],
      "source": [
        "def mad_libs():\n",
        "    print(\"Welcome to Mad Libs!\")\n",
        "    print(\"Please enter the following:\")\n",
        "\n",
        "    adjective1 = input(\"Adjective: \")\n",
        "    noun1 = input(\"Noun: \")\n",
        "    verb1 = input(\"Verb (past tense): \")\n",
        "    adjective2 = input(\"Adjective: \")\n",
        "    noun2 = input(\"Noun: \")\n",
        "    verb2 = input(\"Verb (present tense): \")\n",
        "    number = input(\"Number: \")\n",
        "    plural_noun = input(\"Plural Noun: \")\n",
        "    verb3 = input(\"Verb (present tense): \")\n",
        "\n",
        "    story = f\"Once upon a time, a {adjective1} {noun1} decided to {verb1} in the {adjective2} forest. \"\\\n",
        "            f\"Along the way, it met a {noun2} who asked, 'Do you want to {verb2} with me?' \"\\\n",
        "            f\"The {noun1} said, 'Sure! But we must first find {number} {plural_noun} to help us.' \"\\\n",
        "            f\"Together, they {verb3} and lived happily ever after.\"\n",
        "\n",
        "    print(\"\\nHere is your Mad Libs story:\")\n",
        "    print(story)\n",
        "\n",
        "mad_libs()\n"
      ]
    },
    {
      "cell_type": "code",
      "source": [],
      "metadata": {
        "id": "GEqq2wICMiEt"
      },
      "execution_count": null,
      "outputs": []
    }
  ]
}